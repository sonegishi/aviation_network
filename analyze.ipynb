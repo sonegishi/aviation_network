{
 "cells": [
  {
   "cell_type": "code",
   "execution_count": 1,
   "metadata": {},
   "outputs": [],
   "source": [
    "__author__ = 'So Negishi'\n",
    "__copyright__ = 'Copyright 2019, So Negishi'\n",
    "__license__ = 'GPL'\n",
    "__version__ = '0.0.2'\n",
    "__maintainer__ = 'So Negishi'\n",
    "__email__ = 'sonegishi_2020@depauw.edu'\n",
    "__status__ = 'Development'"
   ]
  },
  {
   "cell_type": "code",
   "execution_count": 2,
   "metadata": {},
   "outputs": [],
   "source": [
    "#!/usr/bin/env python\n",
    "# -*- coding: utf-8 -*-\n",
    "import os\n",
    "import pandas as pd\n",
    "from keplergl import KeplerGl\n",
    "from collections import defaultdict, OrderedDict\n",
    "from aviation_map import AviationMap\n",
    "from aviation_network import AviationNetwork"
   ]
  },
  {
   "cell_type": "markdown",
   "metadata": {},
   "source": [
    "## Import data"
   ]
  },
  {
   "cell_type": "code",
   "execution_count": 3,
   "metadata": {},
   "outputs": [
    {
     "name": "stdout",
     "output_type": "stream",
     "text": [
      "(1878, 10)\n",
      "(119, 10)\n"
     ]
    },
    {
     "data": {
      "text/html": [
       "<div>\n",
       "<style scoped>\n",
       "    .dataframe tbody tr th:only-of-type {\n",
       "        vertical-align: middle;\n",
       "    }\n",
       "\n",
       "    .dataframe tbody tr th {\n",
       "        vertical-align: top;\n",
       "    }\n",
       "\n",
       "    .dataframe thead th {\n",
       "        text-align: right;\n",
       "    }\n",
       "</style>\n",
       "<table border=\"1\" class=\"dataframe\">\n",
       "  <thead>\n",
       "    <tr style=\"text-align: right;\">\n",
       "      <th></th>\n",
       "      <th>iata</th>\n",
       "      <th>name</th>\n",
       "      <th>country</th>\n",
       "      <th>region</th>\n",
       "      <th>latitude</th>\n",
       "      <th>longitude</th>\n",
       "      <th>facility_type</th>\n",
       "      <th>init_capacity</th>\n",
       "      <th>security_level</th>\n",
       "      <th>in_charge</th>\n",
       "    </tr>\n",
       "  </thead>\n",
       "  <tbody>\n",
       "    <tr>\n",
       "      <td>1538</td>\n",
       "      <td>TXK</td>\n",
       "      <td>Texarkana Regional Webb Field</td>\n",
       "      <td>US</td>\n",
       "      <td>US-AR</td>\n",
       "      <td>33.453701</td>\n",
       "      <td>-93.990997</td>\n",
       "      <td>medium_airport</td>\n",
       "      <td>218</td>\n",
       "      <td>20</td>\n",
       "      <td>True</td>\n",
       "    </tr>\n",
       "    <tr>\n",
       "      <td>1540</td>\n",
       "      <td>TYR</td>\n",
       "      <td>Tyler Pounds Regional Airport</td>\n",
       "      <td>US</td>\n",
       "      <td>US-TX</td>\n",
       "      <td>32.354099</td>\n",
       "      <td>-95.402397</td>\n",
       "      <td>medium_airport</td>\n",
       "      <td>310</td>\n",
       "      <td>20</td>\n",
       "      <td>True</td>\n",
       "    </tr>\n",
       "    <tr>\n",
       "      <td>1553</td>\n",
       "      <td>UIN</td>\n",
       "      <td>Quincy Regional Baldwin Field</td>\n",
       "      <td>US</td>\n",
       "      <td>US-IL</td>\n",
       "      <td>39.942699</td>\n",
       "      <td>-91.194603</td>\n",
       "      <td>medium_airport</td>\n",
       "      <td>102</td>\n",
       "      <td>20</td>\n",
       "      <td>True</td>\n",
       "    </tr>\n",
       "    <tr>\n",
       "      <td>1586</td>\n",
       "      <td>VPS</td>\n",
       "      <td>Destin-Ft Walton Beach Airport</td>\n",
       "      <td>US</td>\n",
       "      <td>US-FL</td>\n",
       "      <td>30.483200</td>\n",
       "      <td>-86.525398</td>\n",
       "      <td>large_airport</td>\n",
       "      <td>1431</td>\n",
       "      <td>30</td>\n",
       "      <td>True</td>\n",
       "    </tr>\n",
       "    <tr>\n",
       "      <td>1617</td>\n",
       "      <td>XNA</td>\n",
       "      <td>Northwest Arkansas Regional Airport</td>\n",
       "      <td>US</td>\n",
       "      <td>US-AR</td>\n",
       "      <td>36.281898</td>\n",
       "      <td>-94.306801</td>\n",
       "      <td>medium_airport</td>\n",
       "      <td>2547</td>\n",
       "      <td>20</td>\n",
       "      <td>True</td>\n",
       "    </tr>\n",
       "  </tbody>\n",
       "</table>\n",
       "</div>"
      ],
      "text/plain": [
       "     iata                                 name country region   latitude  \\\n",
       "1538  TXK        Texarkana Regional Webb Field      US  US-AR  33.453701   \n",
       "1540  TYR        Tyler Pounds Regional Airport      US  US-TX  32.354099   \n",
       "1553  UIN        Quincy Regional Baldwin Field      US  US-IL  39.942699   \n",
       "1586  VPS       Destin-Ft Walton Beach Airport      US  US-FL  30.483200   \n",
       "1617  XNA  Northwest Arkansas Regional Airport      US  US-AR  36.281898   \n",
       "\n",
       "      longitude   facility_type  init_capacity  security_level  in_charge  \n",
       "1538 -93.990997  medium_airport            218              20       True  \n",
       "1540 -95.402397  medium_airport            310              20       True  \n",
       "1553 -91.194603  medium_airport            102              20       True  \n",
       "1586 -86.525398   large_airport           1431              30       True  \n",
       "1617 -94.306801  medium_airport           2547              20       True  "
      ]
     },
     "execution_count": 3,
     "metadata": {},
     "output_type": "execute_result"
    }
   ],
   "source": [
    "vertices_df = pd.read_csv('./processed_data/vertices.csv', header=0)\n",
    "print(vertices_df.shape)\n",
    "vertices_df = vertices_df[\n",
    "    (vertices_df.in_charge) &\n",
    "    (vertices_df.name.str.contains('Air Force Base') == False) &\n",
    "    (vertices_df.init_capacity != 0)]\n",
    "print(vertices_df.shape)\n",
    "vertices_df.tail(5)"
   ]
  },
  {
   "cell_type": "code",
   "execution_count": 4,
   "metadata": {},
   "outputs": [
    {
     "name": "stdout",
     "output_type": "stream",
     "text": [
      "(5503, 3)\n",
      "(1063, 3)\n"
     ]
    },
    {
     "data": {
      "text/html": [
       "<div>\n",
       "<style scoped>\n",
       "    .dataframe tbody tr th:only-of-type {\n",
       "        vertical-align: middle;\n",
       "    }\n",
       "\n",
       "    .dataframe tbody tr th {\n",
       "        vertical-align: top;\n",
       "    }\n",
       "\n",
       "    .dataframe thead th {\n",
       "        text-align: right;\n",
       "    }\n",
       "</style>\n",
       "<table border=\"1\" class=\"dataframe\">\n",
       "  <thead>\n",
       "    <tr style=\"text-align: right;\">\n",
       "      <th></th>\n",
       "      <th>origin</th>\n",
       "      <th>dest</th>\n",
       "      <th>num_of_flights</th>\n",
       "    </tr>\n",
       "  </thead>\n",
       "  <tbody>\n",
       "    <tr>\n",
       "      <td>5467</td>\n",
       "      <td>DEN</td>\n",
       "      <td>SGU</td>\n",
       "      <td>10</td>\n",
       "    </tr>\n",
       "    <tr>\n",
       "      <td>5468</td>\n",
       "      <td>LAX</td>\n",
       "      <td>SGU</td>\n",
       "      <td>5</td>\n",
       "    </tr>\n",
       "    <tr>\n",
       "      <td>5469</td>\n",
       "      <td>SGU</td>\n",
       "      <td>LAX</td>\n",
       "      <td>4</td>\n",
       "    </tr>\n",
       "    <tr>\n",
       "      <td>5470</td>\n",
       "      <td>SGU</td>\n",
       "      <td>DEN</td>\n",
       "      <td>9</td>\n",
       "    </tr>\n",
       "    <tr>\n",
       "      <td>5499</td>\n",
       "      <td>AUS</td>\n",
       "      <td>BTR</td>\n",
       "      <td>1</td>\n",
       "    </tr>\n",
       "  </tbody>\n",
       "</table>\n",
       "</div>"
      ],
      "text/plain": [
       "     origin dest  num_of_flights\n",
       "5467    DEN  SGU              10\n",
       "5468    LAX  SGU               5\n",
       "5469    SGU  LAX               4\n",
       "5470    SGU  DEN               9\n",
       "5499    AUS  BTR               1"
      ]
     },
     "execution_count": 4,
     "metadata": {},
     "output_type": "execute_result"
    }
   ],
   "source": [
    "edges_df = pd.read_csv('./processed_data/edges.csv', header=0)\n",
    "print(edges_df.shape)\n",
    "unique_airport_list = vertices_df.iata.unique()\n",
    "edges_df = edges_df[(edges_df.origin.isin(unique_airport_list)) & (edges_df.dest.isin(unique_airport_list))]\n",
    "print(edges_df.shape)\n",
    "edges_df.tail(5)"
   ]
  },
  {
   "cell_type": "markdown",
   "metadata": {},
   "source": [
    "## Export a map"
   ]
  },
  {
   "cell_type": "code",
   "execution_count": 5,
   "metadata": {},
   "outputs": [
    {
     "name": "stdout",
     "output_type": "stream",
     "text": [
      "User Guide: https://github.com/keplergl/kepler.gl/blob/master/docs/keplergl-jupyter/user-guide.md\n",
      "Map saved to ./visualization/ns_flight_map.html!\n"
     ]
    },
    {
     "data": {
      "application/vnd.jupyter.widget-view+json": {
       "model_id": "b5c1add499434833b7a83b1c3be0ad71",
       "version_major": 2,
       "version_minor": 0
      },
      "text/plain": [
       "KeplerGl(data={'flights': {'type': 'FeatureCollection', 'features': [{'type': 'Feature', 'geometry': {'type': …"
      ]
     },
     "metadata": {},
     "output_type": "display_data"
    }
   ],
   "source": [
    "aviation_map = AviationMap(vertices_df, edges_df)\n",
    "aviation_map.create_map(filename='./visualization/ns_flight_map')"
   ]
  },
  {
   "cell_type": "markdown",
   "metadata": {},
   "source": [
    "## Solve the maximum flow problem"
   ]
  },
  {
   "cell_type": "code",
   "execution_count": 6,
   "metadata": {},
   "outputs": [
    {
     "name": "stdout",
     "output_type": "stream",
     "text": [
      "1st & DFW & 459,266 & 4.87\\% & 4.87pts \\\\ \n",
      "2nd & DEN & 439,813 & 4.33\\% & -0.54pts \\\\ \n",
      "3rd & LAX & 424,013 & 3.66\\% & -0.67pts \\\\ \n",
      "4th & IAH & 410,883 & 3.15\\% & -0.51pts \\\\ \n",
      "5th & LAS & 398,549 & 3.05\\% & -0.10pts \\\\ \n",
      "6th & PHX & 386,443 & 3.08\\% & 0.04pts \\\\ \n",
      "7th & SFO & 374,579 & 3.12\\% & 0.03pts \\\\ \n",
      "8th & SAN & 367,741 & 1.84\\% & -1.28pts \\\\ \n",
      "9th & BNA & 361,563 & 1.69\\% & -0.15pts \\\\ \n",
      "10th & DAL & 356,148 & 1.51\\% & -0.19pts \\\\ \n",
      "11th & STL & 351,113 & 1.42\\% & -0.09pts \\\\ \n",
      "12th & AUS & 346,197 & 1.41\\% & -0.01pts \\\\ \n",
      "13th & SJC & 341,350 & 1.41\\% & 0.00pts \\\\ \n",
      "14th & HOU & 336,974 & 1.29\\% & -0.12pts \\\\ \n",
      "15th & MSY & 332,853 & 1.23\\% & -0.06pts \\\\ \n"
     ]
    }
   ],
   "source": [
    "aviation_network = AviationNetwork(vertices_df)\n",
    "results = aviation_network.compute_min_max_flow(max_attacks=15, max_attack_per_airport=1)"
   ]
  }
 ],
 "metadata": {
  "jupytext": {
   "formats": "ipynb,py:light"
  },
  "kernelspec": {
   "display_name": "Python 3",
   "language": "python",
   "name": "python3"
  },
  "language_info": {
   "codemirror_mode": {
    "name": "ipython",
    "version": 3
   },
   "file_extension": ".py",
   "mimetype": "text/x-python",
   "name": "python",
   "nbconvert_exporter": "python",
   "pygments_lexer": "ipython3",
   "version": "3.6.9"
  }
 },
 "nbformat": 4,
 "nbformat_minor": 4
}
